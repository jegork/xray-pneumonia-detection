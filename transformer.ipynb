{
 "cells": [
  {
   "cell_type": "code",
   "execution_count": null,
   "metadata": {},
   "outputs": [],
   "source": [
    "!pip install torch transformers sklearn"
   ]
  },
  {
   "cell_type": "code",
   "execution_count": null,
   "metadata": {},
   "outputs": [],
   "source": [
    "!pip install git+https://github.com/huggingface/transformers"
   ]
  },
  {
   "cell_type": "code",
   "execution_count": 1,
   "metadata": {},
   "outputs": [],
   "source": [
    "from transformers import ViTFeatureExtractor, ViTForImageClassification, TrainingArguments, Trainer\n",
    "import transformers\n",
    "from PIL import Image\n",
    "import os\n",
    "import matplotlib.pyplot as plt\n",
    "import numpy as np\n",
    "import torch\n",
    "from torch.nn import Sequential, Linear, Sigmoid\n",
    "from sklearn.metrics import accuracy_score"
   ]
  },
  {
   "cell_type": "code",
   "execution_count": 2,
   "metadata": {},
   "outputs": [],
   "source": [
    "feature_extractor = ViTFeatureExtractor.from_pretrained('google/vit-base-patch16-224-in21k')"
   ]
  },
  {
   "cell_type": "code",
   "execution_count": 3,
   "metadata": {},
   "outputs": [],
   "source": [
    "classes = ['NORMAL', 'PNEUMONIA']\n",
    "class_mappings = { classes[0]: 0, classes[1]: 1 }\n",
    "class_weights = {0: 1.94, 1: 0.67}"
   ]
  },
  {
   "cell_type": "code",
   "execution_count": 4,
   "metadata": {},
   "outputs": [],
   "source": [
    "class XrayDataset(torch.utils.data.Dataset):\n",
    "    def __init__(self, folder_path):\n",
    "        self.folder_path = folder_path\n",
    "        \n",
    "        self.images = []\n",
    "        self.labels = []\n",
    "        \n",
    "        for c in classes:\n",
    "            class_path = os.path.join(folder_path, c)\n",
    "            \n",
    "            for i in os.listdir(class_path):\n",
    "                self.images.append(os.path.join(class_path, i))\n",
    "                self.labels.append(class_mappings[c])\n",
    "                    \n",
    "    def __getitem__(self, idx):\n",
    "        image_path = self.images[idx]\n",
    "        \n",
    "        image = Image.open(image_path)\\\n",
    "                    .convert('RGB')\\\n",
    "                    .resize((640, 720))\n",
    "        \n",
    "        item = feature_extractor(images=image, return_tensors=\"pt\")\n",
    "        item['pixel_values'] = item['pixel_values']\n",
    "        \n",
    "        item['label'] = torch.Tensor([self.labels[idx]])\n",
    "        \n",
    "        return item\n",
    "    \n",
    "    def __len__(self):\n",
    "        return len(self.labels)\n",
    "    \n",
    "    def shuffle(self):\n",
    "        order = np.random.permutation(len(self))\n",
    "        \n",
    "        self.images = [self.images[i] for i in order]\n",
    "        self.labels = [self.labels[i] for i in order]\n",
    "    \n",
    "train_ds = XrayDataset('chest_xray/train')\n",
    "test_ds = XrayDataset('chest_xray/test')\n",
    "\n",
    "train_ds.shuffle()\n",
    "test_ds.shuffle()"
   ]
  },
  {
   "cell_type": "code",
   "execution_count": 5,
   "metadata": {},
   "outputs": [],
   "source": [
    "class BinaryViT(torch.nn.Module):\n",
    "    def __init__(self, hidden_dropout_prob):\n",
    "        super(BinaryViT, self).__init__()\n",
    "\n",
    "        self.pre_trained_model = ViTForImageClassification.from_pretrained('google/vit-base-patch16-224')\n",
    "        self.pre_trained_model.config.hidden_dropout_prob = hidden_dropout_prob\n",
    "        \n",
    "        for param in self.pre_trained_model.vit.parameters():\n",
    "            param.requires_grad = False\n",
    "            \n",
    "        self.pre_trained_model.classifier = Sequential(\n",
    "            torch.nn.Dropout(p=hidden_dropout_prob),\n",
    "            Linear(in_features=768, out_features=1, bias=True)\n",
    "        )\n",
    "\n",
    "    def forward(self, pixel_values, labels=None):\n",
    "        return self.pre_trained_model(pixel_values)\n",
    "    \n",
    "model = BinaryViT(0.35).cuda()"
   ]
  },
  {
   "cell_type": "code",
   "execution_count": 6,
   "metadata": {},
   "outputs": [],
   "source": [
    "def data_collator(features):\n",
    "    batch = {}\n",
    "    \n",
    "    labels = []\n",
    "    pixel_values = []\n",
    "    \n",
    "    for f in features:\n",
    "        labels.append(f['label'])\n",
    "        pixel_values.append(f['pixel_values'])\n",
    "    \n",
    "    batch['labels'] = torch.stack(labels)\n",
    "    batch['pixel_values'] = torch.cat(pixel_values)\n",
    "    \n",
    "    return batch\n",
    "\n",
    "\n",
    "def compute_metrics(eval_pred):\n",
    "    logits, labels = eval_pred\n",
    "    \n",
    "    return {'accuracy': accuracy_score(y_true=labels, y_pred=np.round(logits, 0))}\n",
    "\n",
    "\n",
    "class MyTrainer(Trainer):\n",
    "    def compute_loss(self, model, inputs, return_outputs=False):\n",
    "        labels = inputs.pop(\"labels\")\n",
    "        weights = torch.Tensor([ class_weights[l[0]] for l in labels.tolist() ]).cuda()\n",
    "        \n",
    "        outputs = model(**inputs)\n",
    "        logits = outputs.logits\n",
    "        \n",
    "        x = torch.sigmoid(logits)\n",
    "        \n",
    "        loss_fct = torch.nn.BCELoss(weight=weights)\n",
    "        loss = loss_fct(x.view(-1), labels.float().view(-1))\n",
    "\n",
    "        return (loss, {'logits': x.view(-1)}) if return_outputs else loss"
   ]
  },
  {
   "cell_type": "code",
   "execution_count": 7,
   "metadata": {},
   "outputs": [],
   "source": [
    "training_args = TrainingArguments(\n",
    "    \"vision_transformer_checkpoints\", \n",
    "    overwrite_output_dir=True,\n",
    "    evaluation_strategy=\"epoch\", \n",
    "    logging_strategy='epoch',\n",
    "    dataloader_pin_memory=True, \n",
    "    per_device_train_batch_size=64,\n",
    "    num_train_epochs=10.0,\n",
    "    per_device_eval_batch_size=32,\n",
    "    load_best_model_at_end=True,\n",
    "    metric_for_best_model='eval_accuracy',\n",
    "    learning_rate=5e-4,\n",
    "    lr_scheduler_type='cosine'\n",
    ")\n",
    "\n",
    "trainer = MyTrainer(\n",
    "    model=model, \n",
    "    args=training_args, \n",
    "    train_dataset=train_ds, \n",
    "    data_collator = data_collator,\n",
    "    eval_dataset=test_ds,\n",
    "    compute_metrics=compute_metrics,\n",
    ")\n",
    "\n",
    "# add lr scheduler"
   ]
  },
  {
   "cell_type": "code",
   "execution_count": 9,
   "metadata": {
    "scrolled": false
   },
   "outputs": [
    {
     "data": {
      "text/html": [
       "\n",
       "    <div>\n",
       "      \n",
       "      <progress value='820' max='820' style='width:300px; height:20px; vertical-align: middle;'></progress>\n",
       "      [820/820 1:07:15, Epoch 10/10]\n",
       "    </div>\n",
       "    <table border=\"1\" class=\"dataframe\">\n",
       "  <thead>\n",
       "    <tr style=\"text-align: left;\">\n",
       "      <th>Epoch</th>\n",
       "      <th>Training Loss</th>\n",
       "      <th>Validation Loss</th>\n",
       "      <th>Accuracy</th>\n",
       "    </tr>\n",
       "  </thead>\n",
       "  <tbody>\n",
       "    <tr>\n",
       "      <td>1</td>\n",
       "      <td>0.494100</td>\n",
       "      <td>0.518921</td>\n",
       "      <td>0.812500</td>\n",
       "    </tr>\n",
       "    <tr>\n",
       "      <td>2</td>\n",
       "      <td>0.316600</td>\n",
       "      <td>0.506420</td>\n",
       "      <td>0.834936</td>\n",
       "    </tr>\n",
       "    <tr>\n",
       "      <td>3</td>\n",
       "      <td>0.264500</td>\n",
       "      <td>0.495775</td>\n",
       "      <td>0.842949</td>\n",
       "    </tr>\n",
       "    <tr>\n",
       "      <td>4</td>\n",
       "      <td>0.239200</td>\n",
       "      <td>0.520427</td>\n",
       "      <td>0.831731</td>\n",
       "    </tr>\n",
       "    <tr>\n",
       "      <td>5</td>\n",
       "      <td>0.224100</td>\n",
       "      <td>0.565012</td>\n",
       "      <td>0.818910</td>\n",
       "    </tr>\n",
       "    <tr>\n",
       "      <td>6</td>\n",
       "      <td>0.221100</td>\n",
       "      <td>0.522782</td>\n",
       "      <td>0.826923</td>\n",
       "    </tr>\n",
       "    <tr>\n",
       "      <td>7</td>\n",
       "      <td>0.212300</td>\n",
       "      <td>0.503131</td>\n",
       "      <td>0.841346</td>\n",
       "    </tr>\n",
       "    <tr>\n",
       "      <td>8</td>\n",
       "      <td>0.209900</td>\n",
       "      <td>0.518690</td>\n",
       "      <td>0.828526</td>\n",
       "    </tr>\n",
       "    <tr>\n",
       "      <td>9</td>\n",
       "      <td>0.208000</td>\n",
       "      <td>0.517521</td>\n",
       "      <td>0.828526</td>\n",
       "    </tr>\n",
       "    <tr>\n",
       "      <td>10</td>\n",
       "      <td>0.203700</td>\n",
       "      <td>0.517021</td>\n",
       "      <td>0.828526</td>\n",
       "    </tr>\n",
       "  </tbody>\n",
       "</table><p>"
      ],
      "text/plain": [
       "<IPython.core.display.HTML object>"
      ]
     },
     "metadata": {},
     "output_type": "display_data"
    },
    {
     "data": {
      "text/plain": [
       "TrainOutput(global_step=820, training_loss=0.25934281232880385, metrics={'train_runtime': 4040.6114, 'train_samples_per_second': 12.909, 'train_steps_per_second': 0.203, 'total_flos': 0.0, 'train_loss': 0.25934281232880385, 'epoch': 10.0})"
      ]
     },
     "execution_count": 9,
     "metadata": {},
     "output_type": "execute_result"
    }
   ],
   "source": [
    "trainer.train()"
   ]
  }
 ],
 "metadata": {
  "kernelspec": {
   "display_name": "Python 3",
   "language": "python",
   "name": "python3"
  },
  "language_info": {
   "codemirror_mode": {
    "name": "ipython",
    "version": 3
   },
   "file_extension": ".py",
   "mimetype": "text/x-python",
   "name": "python",
   "nbconvert_exporter": "python",
   "pygments_lexer": "ipython3",
   "version": "3.6.9"
  }
 },
 "nbformat": 4,
 "nbformat_minor": 2
}
